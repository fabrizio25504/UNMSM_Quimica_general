{
  "nbformat": 4,
  "nbformat_minor": 0,
  "metadata": {
    "colab": {
      "provenance": [],
      "authorship_tag": "ABX9TyPJ4pRXolKDyUy0qwiOlLKu",
      "include_colab_link": true
    },
    "kernelspec": {
      "name": "python3",
      "display_name": "Python 3"
    },
    "language_info": {
      "name": "python"
    }
  },
  "cells": [
    {
      "cell_type": "markdown",
      "metadata": {
        "id": "view-in-github",
        "colab_type": "text"
      },
      "source": [
        "<a href=\"https://colab.research.google.com/github/fabrizio25504/UNMSM_Quimica_general/blob/main/PC_Cinetica_Fabrizio_Mantari.ipynb\" target=\"_parent\"><img src=\"https://colab.research.google.com/assets/colab-badge.svg\" alt=\"Open In Colab\"/></a>"
      ]
    },
    {
      "cell_type": "code",
      "execution_count": 2,
      "metadata": {
        "colab": {
          "base_uri": "https://localhost:8080/"
        },
        "id": "dlkL42xUTybR",
        "outputId": "0483ddb1-6ee2-4d8e-ce79-0f09614ba5e7"
      },
      "outputs": [
        {
          "output_type": "stream",
          "name": "stdout",
          "text": [
            "Collecting rdkit\n",
            "  Downloading rdkit-2023.9.1-cp310-cp310-manylinux_2_17_x86_64.manylinux2014_x86_64.whl (30.5 MB)\n",
            "\u001b[2K     \u001b[90m━━━━━━━━━━━━━━━━━━━━━━━━━━━━━━━━━━━━━━━━\u001b[0m \u001b[32m30.5/30.5 MB\u001b[0m \u001b[31m50.4 MB/s\u001b[0m eta \u001b[36m0:00:00\u001b[0m\n",
            "\u001b[?25hRequirement already satisfied: numpy in /usr/local/lib/python3.10/dist-packages (from rdkit) (1.23.5)\n",
            "Requirement already satisfied: Pillow in /usr/local/lib/python3.10/dist-packages (from rdkit) (9.4.0)\n",
            "Installing collected packages: rdkit\n",
            "Successfully installed rdkit-2023.9.1\n",
            "Collecting pyscf\n",
            "  Downloading pyscf-2.4.0-py3-none-manylinux_2_17_x86_64.manylinux2014_x86_64.whl (47.3 MB)\n",
            "\u001b[2K     \u001b[90m━━━━━━━━━━━━━━━━━━━━━━━━━━━━━━━━━━━━━━━━\u001b[0m \u001b[32m47.3/47.3 MB\u001b[0m \u001b[31m12.4 MB/s\u001b[0m eta \u001b[36m0:00:00\u001b[0m\n",
            "\u001b[?25hRequirement already satisfied: numpy!=1.16,!=1.17,>=1.13 in /usr/local/lib/python3.10/dist-packages (from pyscf) (1.23.5)\n",
            "Requirement already satisfied: scipy!=1.5.0,!=1.5.1 in /usr/local/lib/python3.10/dist-packages (from pyscf) (1.11.3)\n",
            "Requirement already satisfied: h5py>=2.7 in /usr/local/lib/python3.10/dist-packages (from pyscf) (3.9.0)\n",
            "Requirement already satisfied: setuptools in /usr/local/lib/python3.10/dist-packages (from pyscf) (67.7.2)\n",
            "Installing collected packages: pyscf\n",
            "Successfully installed pyscf-2.4.0\n"
          ]
        }
      ],
      "source": [
        "! pip install rdkit\n",
        "! pip install pyscf"
      ]
    },
    {
      "cell_type": "code",
      "source": [
        "from rdkit import Chem\n",
        "from rdkit.Chem import Draw\n",
        "from rdkit.Chem import AllChem\n",
        "from rdkit.Chem.Draw import IPythonConsole\n",
        "IPythonConsole.drawOptions.addAtomIndices = True"
      ],
      "metadata": {
        "id": "wUaMIHs7Zwzf"
      },
      "execution_count": 3,
      "outputs": []
    },
    {
      "cell_type": "markdown",
      "source": [
        "# Molecula sis"
      ],
      "metadata": {
        "id": "AR4DCKggiFxM"
      }
    },
    {
      "cell_type": "code",
      "source": [
        "smiles = \"F\\C=C/C\"\n",
        "mol_cis = Chem.MolFromSmiles(smiles)\n",
        "mol_cis = Chem.AddHs(mol_cis)\n",
        "Chem.AllChem.EmbedMolecule(mol_cis,useRandomCoords=False, randomSeed = 117)\n",
        "Chem.MolToXYZFile(mol_cis,\"cis.xyz\")\n",
        "mol_cis"
      ],
      "metadata": {
        "colab": {
          "base_uri": "https://localhost:8080/",
          "height": 167
        },
        "id": "R2Rh6q51aVb4",
        "outputId": "3e8e7804-7bd3-44de-9273-6fc961e26f56"
      },
      "execution_count": 4,
      "outputs": [
        {
          "output_type": "execute_result",
          "data": {
            "text/plain": [
              "<rdkit.Chem.rdchem.Mol at 0x7a843271b8b0>"
            ],
            "image/png": "[encoded data removed]"
          },
          "metadata": {},
          "execution_count": 4
        }
      ]
    },
    {
      "cell_type": "code",
      "source": [
        "cat cis.xyz"
      ],
      "metadata": {
        "colab": {
          "base_uri": "https://localhost:8080/"
        },
        "id": "0k7-RGuOavYO",
        "outputId": "f9481b21-b372-42ea-c54e-6a9fb4d0fc54"
      },
      "execution_count": 5,
      "outputs": [
        {
          "output_type": "stream",
          "name": "stdout",
          "text": [
            "9\n",
            "\n",
            "F      1.278133    1.454392    0.361707\n",
            "C      1.324428    0.114406    0.086771\n",
            "C      0.211875   -0.600289   -0.107579\n",
            "C     -1.080091    0.141775   -0.008462\n",
            "H      2.264732   -0.419036    0.015914\n",
            "H      0.255235   -1.675106   -0.327775\n",
            "H     -1.411267    0.291329    1.031244\n",
            "H     -1.860128   -0.435483   -0.531530\n",
            "H     -0.982917    1.128011   -0.520291\n"
          ]
        }
      ]
    },
    {
      "cell_type": "code",
      "source": [
        "from pyscf import gto, scf"
      ],
      "metadata": {
        "id": "6_RzfWIThRll"
      },
      "execution_count": 6,
      "outputs": []
    },
    {
      "cell_type": "code",
      "source": [
        "mol_cis1 = gto.M(atom=\"cis.xyz\")"
      ],
      "metadata": {
        "id": "tqx2EJZJhbW8"
      },
      "execution_count": 7,
      "outputs": []
    },
    {
      "cell_type": "code",
      "source": [
        "# set basis set\n",
        "mol_cis1.basis = \"6-31G\"\n",
        "\n",
        "# set the functional\n",
        "mf = mol_cis1.KS()\n",
        "mf.xc = 'b3lyp'"
      ],
      "metadata": {
        "id": "Cfrja1sYhm30",
        "colab": {
          "base_uri": "https://localhost:8080/"
        },
        "outputId": "27a0109e-67f1-4756-c010-74f71619cafc"
      },
      "execution_count": 8,
      "outputs": [
        {
          "output_type": "stream",
          "name": "stderr",
          "text": [
            "/usr/local/lib/python3.10/dist-packages/pyscf/dft/libxc.py:771: UserWarning: Since PySCF-2.3, B3LYP (and B3P86) are changed to the VWN-RPA variant, corresponding to the original definition by Stephens et al. (issue 1480) and the same as the B3LYP functional in Gaussian. To restore the VWN5 definition, you can put the setting \"B3LYP_WITH_VWN5 = True\" in pyscf_conf.py\n",
            "  warnings.warn('Since PySCF-2.3, B3LYP (and B3P86) are changed to the VWN-RPA variant, '\n"
          ]
        }
      ]
    },
    {
      "cell_type": "code",
      "source": [
        "mf.kernel()"
      ],
      "metadata": {
        "colab": {
          "base_uri": "https://localhost:8080/"
        },
        "id": "sXm5Nf_EhtWM",
        "outputId": "8569eaa9-c299-4061-aa2b-5e873dd4797f"
      },
      "execution_count": 9,
      "outputs": [
        {
          "output_type": "stream",
          "name": "stdout",
          "text": [
            "converged SCF energy = -214.251990680735\n"
          ]
        },
        {
          "output_type": "execute_result",
          "data": {
            "text/plain": [
              "-214.25199068073454"
            ]
          },
          "metadata": {},
          "execution_count": 9
        }
      ]
    },
    {
      "cell_type": "code",
      "source": [
        "resultado_cis =[mf.kernel()]"
      ],
      "metadata": {
        "colab": {
          "base_uri": "https://localhost:8080/"
        },
        "id": "5HGnz_KFk-q-",
        "outputId": "e1b5a09f-4212-48ef-a2d3-143c61cf3337"
      },
      "execution_count": 10,
      "outputs": [
        {
          "output_type": "stream",
          "name": "stdout",
          "text": [
            "converged SCF energy = -214.251990680735\n"
          ]
        }
      ]
    },
    {
      "cell_type": "markdown",
      "source": [
        "# Molecula trans"
      ],
      "metadata": {
        "id": "CbtP9NoLiSvU"
      }
    },
    {
      "cell_type": "code",
      "source": [
        "smiles = \"F/C=C/C\"\n",
        "mol_trans = Chem.MolFromSmiles(smiles)\n",
        "mol_trans = Chem.AddHs(mol_trans)\n",
        "Chem.AllChem.EmbedMolecule(mol_trans,useRandomCoords=False, randomSeed = 117)\n",
        "Chem.MolToXYZFile(mol_trans,\"trans.xyz\")\n",
        "mol_trans"
      ],
      "metadata": {
        "colab": {
          "base_uri": "https://localhost:8080/",
          "height": 167
        },
        "outputId": "92bc44e1-22f7-4da6-90bc-ff8bc8a97d14",
        "id": "JD9pkpCKic8B"
      },
      "execution_count": 11,
      "outputs": [
        {
          "output_type": "execute_result",
          "data": {
            "text/plain": [
              "<rdkit.Chem.rdchem.Mol at 0x7a84237e2b90>"
            ],
            "image/png": "[encoded data removed]"
          },
          "metadata": {},
          "execution_count": 11
        }
      ]
    },
    {
      "cell_type": "code",
      "source": [
        "cat trans.xyz"
      ],
      "metadata": {
        "colab": {
          "base_uri": "https://localhost:8080/"
        },
        "id": "wdxfgwqri4m1",
        "outputId": "68c2c59e-98b3-4ef4-c454-5474e3a1a1fc"
      },
      "execution_count": 12,
      "outputs": [
        {
          "output_type": "stream",
          "name": "stdout",
          "text": [
            "9\n",
            "\n",
            "F      2.531086   -0.018901   -0.127428\n",
            "C      1.247998   -0.409791   -0.108192\n",
            "C      0.290031    0.466354    0.026514\n",
            "C     -1.140194    0.045176    0.049478\n",
            "H      1.000126   -1.460952   -0.204970\n",
            "H      0.479347    1.517127    0.126003\n",
            "H     -1.255347   -1.004178   -0.314946\n",
            "H     -1.694646    0.764347   -0.567021\n",
            "H     -1.458401    0.100818    1.120562\n"
          ]
        }
      ]
    },
    {
      "cell_type": "code",
      "source": [
        "mol_trans1 = gto.M(atom = \"trans.xyz\")\n",
        "mol_trans1.basis = \"6-31G\"\n",
        "mf1 = mol_trans1.KS()\n",
        "mf1.xc = 'b3lyp'"
      ],
      "metadata": {
        "id": "APp6uARAjIzz"
      },
      "execution_count": 13,
      "outputs": []
    },
    {
      "cell_type": "code",
      "source": [
        "mf1.kernel()"
      ],
      "metadata": {
        "colab": {
          "base_uri": "https://localhost:8080/"
        },
        "id": "3aqHbIVpjuxc",
        "outputId": "5940f2d3-be48-4c58-96f2-319468c291fd"
      },
      "execution_count": 14,
      "outputs": [
        {
          "output_type": "stream",
          "name": "stdout",
          "text": [
            "converged SCF energy = -214.249799819274\n"
          ]
        },
        {
          "output_type": "execute_result",
          "data": {
            "text/plain": [
              "-214.24979981927373"
            ]
          },
          "metadata": {},
          "execution_count": 14
        }
      ]
    },
    {
      "cell_type": "code",
      "source": [
        "resultado_trans =[mf1.kernel()]"
      ],
      "metadata": {
        "colab": {
          "base_uri": "https://localhost:8080/"
        },
        "id": "9TadilnKk0S-",
        "outputId": "a51827c0-6eb4-4cd8-e6ed-e968ff783b61"
      },
      "execution_count": 15,
      "outputs": [
        {
          "output_type": "stream",
          "name": "stdout",
          "text": [
            "converged SCF energy = -214.249799819274\n"
          ]
        }
      ]
    },
    {
      "cell_type": "markdown",
      "source": [
        "# Molecula Cis rotada(90°)"
      ],
      "metadata": {
        "id": "C-DBrGsnlZLD"
      }
    },
    {
      "cell_type": "code",
      "source": [
        "Chem.AllChem.SetDihedralDeg(mol_cis.GetConformer(0),3,2,1,0,90.0)\n",
        "Chem.MolToXYZFile(mol_cis, \"90.xyz\")\n",
        "mol_cis"
      ],
      "metadata": {
        "colab": {
          "base_uri": "https://localhost:8080/",
          "height": 167
        },
        "id": "6IFw9KOPbbAu",
        "outputId": "2e2a28e1-6f51-41a3-fc6c-be2f3614089b"
      },
      "execution_count": 16,
      "outputs": [
        {
          "output_type": "execute_result",
          "data": {
            "text/plain": [
              "<rdkit.Chem.rdchem.Mol at 0x7a843271b8b0>"
            ],
            "image/png": "[encoded data removed]"
          },
          "metadata": {},
          "execution_count": 16
        }
      ]
    },
    {
      "cell_type": "code",
      "source": [
        "cat 90.xyz"
      ],
      "metadata": {
        "colab": {
          "base_uri": "https://localhost:8080/"
        },
        "id": "lHi629qXcJAW",
        "outputId": "6bc5e9a7-6e26-46ce-ee0e-76450f58860d"
      },
      "execution_count": 17,
      "outputs": [
        {
          "output_type": "stream",
          "name": "stdout",
          "text": [
            "9\n",
            "\n",
            "F      1.874246    0.262754    1.331355\n",
            "C      1.324428    0.114406    0.086771\n",
            "C      0.211875   -0.600289   -0.107579\n",
            "C     -1.080091    0.141775   -0.008462\n",
            "H      1.769638    0.570620   -0.789248\n",
            "H      0.255235   -1.675106   -0.327775\n",
            "H     -1.411267    0.291329    1.031244\n",
            "H     -1.860128   -0.435483   -0.531530\n",
            "H     -0.982917    1.128011   -0.520291\n"
          ]
        }
      ]
    },
    {
      "cell_type": "code",
      "source": [
        "mol_90 = gto.M(atom = \"90.xyz\")\n",
        "mol_90.basis = \"6-31G\"\n",
        "mf2 = mol_90.KS()\n",
        "mf2.xc = 'b3lyp'"
      ],
      "metadata": {
        "id": "NisFQi0elrKb"
      },
      "execution_count": 18,
      "outputs": []
    },
    {
      "cell_type": "code",
      "source": [
        "mf2.kernel()"
      ],
      "metadata": {
        "colab": {
          "base_uri": "https://localhost:8080/"
        },
        "id": "R6NSEUgWmSUb",
        "outputId": "1cd6bf76-0eb9-40eb-a91b-49cd9ce9a148"
      },
      "execution_count": 19,
      "outputs": [
        {
          "output_type": "stream",
          "name": "stdout",
          "text": [
            "converged SCF energy = -214.08748631938\n"
          ]
        },
        {
          "output_type": "execute_result",
          "data": {
            "text/plain": [
              "-214.0874863193801"
            ]
          },
          "metadata": {},
          "execution_count": 19
        }
      ]
    },
    {
      "cell_type": "code",
      "source": [
        "resultado_CA = [mf2.kernel()]"
      ],
      "metadata": {
        "colab": {
          "base_uri": "https://localhost:8080/"
        },
        "id": "3FMN-xVuma1j",
        "outputId": "3203835a-9138-4fe7-f5ee-29c19efce874"
      },
      "execution_count": 20,
      "outputs": [
        {
          "output_type": "stream",
          "name": "stdout",
          "text": [
            "converged SCF energy = -214.08748631938\n"
          ]
        }
      ]
    },
    {
      "cell_type": "markdown",
      "source": [
        "# Grafico"
      ],
      "metadata": {
        "id": "PbA8fkq_mvFa"
      }
    },
    {
      "cell_type": "code",
      "source": [
        "pip install git+https://github.com/giacomomarchioro/PyEnergyDiagrams"
      ],
      "metadata": {
        "colab": {
          "base_uri": "https://localhost:8080/"
        },
        "id": "vtVJXnMinQc1",
        "outputId": "0110d85c-6898-413f-f9af-9581154879fb"
      },
      "execution_count": 21,
      "outputs": [
        {
          "output_type": "stream",
          "name": "stdout",
          "text": [
            "Collecting git+https://github.com/giacomomarchioro/PyEnergyDiagrams\n",
            "  Cloning https://github.com/giacomomarchioro/PyEnergyDiagrams to /tmp/pip-req-build-1jkqv4mx\n",
            "  Running command git clone --filter=blob:none --quiet https://github.com/giacomomarchioro/PyEnergyDiagrams /tmp/pip-req-build-1jkqv4mx\n",
            "  Resolved https://github.com/giacomomarchioro/PyEnergyDiagrams to commit 3d6086564aa99aa0a0f3db4a510b736015562d5c\n",
            "  Preparing metadata (setup.py) ... \u001b[?25l\u001b[?25hdone\n",
            "Requirement already satisfied: matplotlib in /usr/local/lib/python3.10/dist-packages (from energydiagram==0.2.0) (3.7.1)\n",
            "Requirement already satisfied: contourpy>=1.0.1 in /usr/local/lib/python3.10/dist-packages (from matplotlib->energydiagram==0.2.0) (1.1.1)\n",
            "Requirement already satisfied: cycler>=0.10 in /usr/local/lib/python3.10/dist-packages (from matplotlib->energydiagram==0.2.0) (0.12.1)\n",
            "Requirement already satisfied: fonttools>=4.22.0 in /usr/local/lib/python3.10/dist-packages (from matplotlib->energydiagram==0.2.0) (4.43.1)\n",
            "Requirement already satisfied: kiwisolver>=1.0.1 in /usr/local/lib/python3.10/dist-packages (from matplotlib->energydiagram==0.2.0) (1.4.5)\n",
            "Requirement already satisfied: numpy>=1.20 in /usr/local/lib/python3.10/dist-packages (from matplotlib->energydiagram==0.2.0) (1.23.5)\n",
            "Requirement already satisfied: packaging>=20.0 in /usr/local/lib/python3.10/dist-packages (from matplotlib->energydiagram==0.2.0) (23.2)\n",
            "Requirement already satisfied: pillow>=6.2.0 in /usr/local/lib/python3.10/dist-packages (from matplotlib->energydiagram==0.2.0) (9.4.0)\n",
            "Requirement already satisfied: pyparsing>=2.3.1 in /usr/local/lib/python3.10/dist-packages (from matplotlib->energydiagram==0.2.0) (3.1.1)\n",
            "Requirement already satisfied: python-dateutil>=2.7 in /usr/local/lib/python3.10/dist-packages (from matplotlib->energydiagram==0.2.0) (2.8.2)\n",
            "Requirement already satisfied: six>=1.5 in /usr/local/lib/python3.10/dist-packages (from python-dateutil>=2.7->matplotlib->energydiagram==0.2.0) (1.16.0)\n",
            "Building wheels for collected packages: energydiagram\n",
            "  Building wheel for energydiagram (setup.py) ... \u001b[?25l\u001b[?25hdone\n",
            "  Created wheel for energydiagram: filename=energydiagram-0.2.0-py3-none-any.whl size=9465 sha256=a652f258403b8bd6f6df96cb1baebb8470fef9fa5e8c13342745154fdd56e99b\n",
            "  Stored in directory: /tmp/pip-ephem-wheel-cache-vr0t05uk/wheels/fd/36/8c/10ed87cd41f9638b1e3a44dabe7e1e185131d967ea6ed395cf\n",
            "Successfully built energydiagram\n",
            "Installing collected packages: energydiagram\n",
            "Successfully installed energydiagram-0.2.0\n"
          ]
        }
      ]
    },
    {
      "cell_type": "code",
      "source": [
        "import matplotlib.pyplot as plt\n",
        "from energydiagram import ED\n",
        "diagram = ED()\n",
        "diagram.add_level(mf.kernel(),'Cis')\n",
        "diagram.add_level(mf2.kernel(),'TS',color='g')\n",
        "diagram.add_level(mf1.kernel(),'trans')\n",
        "\n",
        "diagram.add_link(0,1)\n",
        "diagram.add_link(1,2)\n",
        "diagram.plot(ylabel=\"Energy / $kcal$ $mol^{-1}$\") # this is the default ylabel\n"
      ],
      "metadata": {
        "colab": {
          "base_uri": "https://localhost:8080/",
          "height": 448
        },
        "id": "3KqNJVRhmyzU",
        "outputId": "13c764cf-18c7-41c2-bdb1-55774b369a67"
      },
      "execution_count": 22,
      "outputs": [
        {
          "output_type": "stream",
          "name": "stdout",
          "text": [
            "converged SCF energy = -214.251990680734\n",
            "converged SCF energy = -214.08748631938\n",
            "converged SCF energy = -214.249799819274\n"
          ]
        },
        {
          "output_type": "display_data",
          "data": {
            "text/plain": [
              "<Figure size 640x480 with 1 Axes>"
            ],
            "image/png": "[encoded data removed]"
          },
          "metadata": {}
        }
      ]
    },
    {
      "cell_type": "markdown",
      "source": [
        "# ¿Reacción endotérmica o exotérmica?"
      ],
      "metadata": {
        "id": "EMafgzIHoHQB"
      }
    },
    {
      "cell_type": "code",
      "source": [
        "E_reactante = mf.kernel()"
      ],
      "metadata": {
        "colab": {
          "base_uri": "https://localhost:8080/"
        },
        "id": "38cxyKlQoQpW",
        "outputId": "a9faa587-da0b-4d07-d851-8c67f9b57aea"
      },
      "execution_count": 23,
      "outputs": [
        {
          "output_type": "stream",
          "name": "stdout",
          "text": [
            "converged SCF energy = -214.251990680735\n"
          ]
        }
      ]
    },
    {
      "cell_type": "code",
      "source": [
        "E_producto = mf1.kernel()"
      ],
      "metadata": {
        "colab": {
          "base_uri": "https://localhost:8080/"
        },
        "id": "JI-d-pcJoyk_",
        "outputId": "0f3bc8f8-9778-4a26-b82f-dc50d31b4c73"
      },
      "execution_count": 24,
      "outputs": [
        {
          "output_type": "stream",
          "name": "stdout",
          "text": [
            "converged SCF energy = -214.249799819273\n"
          ]
        }
      ]
    },
    {
      "cell_type": "code",
      "source": [
        "E_entalpia = E_producto - E_reactante\n",
        "E_entalpia"
      ],
      "metadata": {
        "colab": {
          "base_uri": "https://localhost:8080/"
        },
        "id": "SUdu6z9Eo9JV",
        "outputId": "e8b06761-3893-4f60-a93e-2dad1e55eb0b"
      },
      "execution_count": 25,
      "outputs": [
        {
          "output_type": "execute_result",
          "data": {
            "text/plain": [
              "0.0021908614615426814"
            ]
          },
          "metadata": {},
          "execution_count": 25
        }
      ]
    },
    {
      "cell_type": "markdown",
      "source": [
        "![image.png](data:image/png;base64,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)\n",
        "\n",
        "Entonces debido a que la energía de entalpia resulta positiva podemos afirmar que es una reacción  **Endotermica**\n",
        "\n",
        "A continuación Calcularemos la energía de activación."
      ],
      "metadata": {
        "id": "9xU7R8yupJ6j"
      }
    },
    {
      "cell_type": "code",
      "source": [
        "E_comp_act = mf2.kernel()"
      ],
      "metadata": {
        "colab": {
          "base_uri": "https://localhost:8080/"
        },
        "id": "aYQFMHTpp0ux",
        "outputId": "954f00eb-9205-4a09-bf6f-b14a6fe5dfa6"
      },
      "execution_count": 26,
      "outputs": [
        {
          "output_type": "stream",
          "name": "stdout",
          "text": [
            "converged SCF energy = -214.08748631938\n"
          ]
        }
      ]
    },
    {
      "cell_type": "code",
      "source": [
        "E_act = E_comp_act - E_reactante\n",
        "print(\"el valor de la energia de activación es de \",round(E_act,2),\"J\")"
      ],
      "metadata": {
        "colab": {
          "base_uri": "https://localhost:8080/"
        },
        "id": "ZwMGm_-DqR-a",
        "outputId": "313044a0-883f-4997-aa47-54c08eb1ce4f"
      },
      "execution_count": 27,
      "outputs": [
        {
          "output_type": "stream",
          "name": "stdout",
          "text": [
            "el valor de la energia de activación es de  0.16 J\n"
          ]
        }
      ]
    }
  ]
}