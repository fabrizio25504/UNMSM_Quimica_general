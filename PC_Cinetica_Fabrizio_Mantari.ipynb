{
  "nbformat": 4,
  "nbformat_minor": 0,
  "metadata": {
    "colab": {
      "provenance": [],
      "authorship_tag": "ABX9TyOGi60C9WNbcdLBCPNMHi+P",
      "include_colab_link": true
    },
    "kernelspec": {
      "name": "python3",
      "display_name": "Python 3"
    },
    "language_info": {
      "name": "python"
    }
  },
  "cells": [
    {
      "cell_type": "markdown",
      "metadata": {
        "id": "view-in-github",
        "colab_type": "text"
      },
      "source": [
        "<a href=\"https://colab.research.google.com/github/fabrizio25504/UNMSM_Quimica_general/blob/main/PC_Cinetica_Fabrizio_Mantari.ipynb\" target=\"_parent\"><img src=\"https://colab.research.google.com/assets/colab-badge.svg\" alt=\"Open In Colab\"/></a>"
      ]
    },
    {
      "cell_type": "code",
      "execution_count": 2,
      "metadata": {
        "colab": {
          "base_uri": "https://localhost:8080/"
        },
        "id": "dlkL42xUTybR",
        "outputId": "0483ddb1-6ee2-4d8e-ce79-0f09614ba5e7"
      },
      "outputs": [
        {
          "output_type": "stream",
          "name": "stdout",
          "text": [
            "Collecting rdkit\n",
            "  Downloading rdkit-2023.9.1-cp310-cp310-manylinux_2_17_x86_64.manylinux2014_x86_64.whl (30.5 MB)\n",
            "\u001b[2K     \u001b[90m━━━━━━━━━━━━━━━━━━━━━━━━━━━━━━━━━━━━━━━━\u001b[0m \u001b[32m30.5/30.5 MB\u001b[0m \u001b[31m50.4 MB/s\u001b[0m eta \u001b[36m0:00:00\u001b[0m\n",
            "\u001b[?25hRequirement already satisfied: numpy in /usr/local/lib/python3.10/dist-packages (from rdkit) (1.23.5)\n",
            "Requirement already satisfied: Pillow in /usr/local/lib/python3.10/dist-packages (from rdkit) (9.4.0)\n",
            "Installing collected packages: rdkit\n",
            "Successfully installed rdkit-2023.9.1\n",
            "Collecting pyscf\n",
            "  Downloading pyscf-2.4.0-py3-none-manylinux_2_17_x86_64.manylinux2014_x86_64.whl (47.3 MB)\n",
            "\u001b[2K     \u001b[90m━━━━━━━━━━━━━━━━━━━━━━━━━━━━━━━━━━━━━━━━\u001b[0m \u001b[32m47.3/47.3 MB\u001b[0m \u001b[31m12.4 MB/s\u001b[0m eta \u001b[36m0:00:00\u001b[0m\n",
            "\u001b[?25hRequirement already satisfied: numpy!=1.16,!=1.17,>=1.13 in /usr/local/lib/python3.10/dist-packages (from pyscf) (1.23.5)\n",
            "Requirement already satisfied: scipy!=1.5.0,!=1.5.1 in /usr/local/lib/python3.10/dist-packages (from pyscf) (1.11.3)\n",
            "Requirement already satisfied: h5py>=2.7 in /usr/local/lib/python3.10/dist-packages (from pyscf) (3.9.0)\n",
            "Requirement already satisfied: setuptools in /usr/local/lib/python3.10/dist-packages (from pyscf) (67.7.2)\n",
            "Installing collected packages: pyscf\n",
            "Successfully installed pyscf-2.4.0\n"
          ]
        }
      ],
      "source": [
        "! pip install rdkit\n",
        "! pip install pyscf"
      ]
    },
    {
      "cell_type": "code",
      "source": [
        "from rdkit import Chem\n",
        "from rdkit.Chem import Draw\n",
        "from rdkit.Chem import AllChem\n",
        "from rdkit.Chem.Draw import IPythonConsole\n",
        "IPythonConsole.drawOptions.addAtomIndices = True"
      ],
      "metadata": {
        "id": "wUaMIHs7Zwzf"
      },
      "execution_count": 3,
      "outputs": []
    },
    {
      "cell_type": "markdown",
      "source": [
        "# Molecula sis"
      ],
      "metadata": {
        "id": "AR4DCKggiFxM"
      }
    },
    {
      "cell_type": "code",
      "source": [
        "smiles = \"F\\C=C/C\"\n",
        "mol_cis = Chem.MolFromSmiles(smiles)\n",
        "mol_cis = Chem.AddHs(mol_cis)\n",
        "Chem.AllChem.EmbedMolecule(mol_cis,useRandomCoords=False, randomSeed = 117)\n",
        "Chem.MolToXYZFile(mol_cis,\"cis.xyz\")\n",
        "mol_cis"
      ],
      "metadata": {
        "colab": {
          "base_uri": "https://localhost:8080/",
          "height": 167
        },
        "id": "R2Rh6q51aVb4",
        "outputId": "3e8e7804-7bd3-44de-9273-6fc961e26f56"
      },
      "execution_count": 4,
      "outputs": [
        {
          "output_type": "execute_result",
          "data": {
            "text/plain": [
              "<rdkit.Chem.rdchem.Mol at 0x7a843271b8b0>"
            ],
            "image/png": "[encoded data removed]"
          },
          "metadata": {},
          "execution_count": 4
        }
      ]
    },
    {
      "cell_type": "code",
      "source": [
        "cat cis.xyz"
      ],
      "metadata": {
        "colab": {
          "base_uri": "https://localhost:8080/"
        },
        "id": "0k7-RGuOavYO",
        "outputId": "f9481b21-b372-42ea-c54e-6a9fb4d0fc54"
      },
      "execution_count": 5,
      "outputs": [
        {
          "output_type": "stream",
          "name": "stdout",
          "text": [
            "9\n",
            "\n",
            "F      1.278133    1.454392    0.361707\n",
            "C      1.324428    0.114406    0.086771\n",
            "C      0.211875   -0.600289   -0.107579\n",
            "C     -1.080091    0.141775   -0.008462\n",
            "H      2.264732   -0.419036    0.015914\n",
            "H      0.255235   -1.675106   -0.327775\n",
            "H     -1.411267    0.291329    1.031244\n",
            "H     -1.860128   -0.435483   -0.531530\n",
            "H     -0.982917    1.128011   -0.520291\n"
          ]
        }
      ]
    },
    {
      "cell_type": "code",
      "source": [
        "from pyscf import gto, scf"
      ],
      "metadata": {
        "id": "6_RzfWIThRll"
      },
      "execution_count": 6,
      "outputs": []
    },
    {
      "cell_type": "code",
      "source": [
        "mol_cis1 = gto.M(atom=\"cis.xyz\")"
      ],
      "metadata": {
        "id": "tqx2EJZJhbW8"
      },
      "execution_count": 7,
      "outputs": []
    },
    {
      "cell_type": "code",
      "source": [
        "# set basis set\n",
        "mol_cis1.basis = \"6-31G\"\n",
        "\n",
        "# set the functional\n",
        "mf = mol_cis1.KS()\n",
        "mf.xc = 'b3lyp'"
      ],
      "metadata": {
        "id": "Cfrja1sYhm30",
        "colab": {
          "base_uri": "https://localhost:8080/"
        },
        "outputId": "27a0109e-67f1-4756-c010-74f71619cafc"
      },
      "execution_count": 8,
      "outputs": [
        {
          "output_type": "stream",
          "name": "stderr",
          "text": [
            "/usr/local/lib/python3.10/dist-packages/pyscf/dft/libxc.py:771: UserWarning: Since PySCF-2.3, B3LYP (and B3P86) are changed to the VWN-RPA variant, corresponding to the original definition by Stephens et al. (issue 1480) and the same as the B3LYP functional in Gaussian. To restore the VWN5 definition, you can put the setting \"B3LYP_WITH_VWN5 = True\" in pyscf_conf.py\n",
            "  warnings.warn('Since PySCF-2.3, B3LYP (and B3P86) are changed to the VWN-RPA variant, '\n"
          ]
        }
      ]
    },
    {
      "cell_type": "code",
      "source": [
        "mf.kernel()"
      ],
      "metadata": {
        "colab": {
          "base_uri": "https://localhost:8080/"
        },
        "id": "sXm5Nf_EhtWM",
        "outputId": "8569eaa9-c299-4061-aa2b-5e873dd4797f"
      },
      "execution_count": 9,
      "outputs": [
        {
          "output_type": "stream",
          "name": "stdout",
          "text": [
            "converged SCF energy = -214.251990680735\n"
          ]
        },
        {
          "output_type": "execute_result",
          "data": {
            "text/plain": [
              "-214.25199068073454"
            ]
          },
          "metadata": {},
          "execution_count": 9
        }
      ]
    },
    {
      "cell_type": "code",
      "source": [
        "resultado_cis =[mf.kernel()]"
      ],
      "metadata": {
        "colab": {
          "base_uri": "https://localhost:8080/"
        },
        "id": "5HGnz_KFk-q-",
        "outputId": "e1b5a09f-4212-48ef-a2d3-143c61cf3337"
      },
      "execution_count": 10,
      "outputs": [
        {
          "output_type": "stream",
          "name": "stdout",
          "text": [
            "converged SCF energy = -214.251990680735\n"
          ]
        }
      ]
    },
    {
      "cell_type": "markdown",
      "source": [
        "# Molecula trans"
      ],
      "metadata": {
        "id": "CbtP9NoLiSvU"
      }
    },
    {
      "cell_type": "code",
      "source": [
        "smiles = \"F/C=C/C\"\n",
        "mol_trans = Chem.MolFromSmiles(smiles)\n",
        "mol_trans = Chem.AddHs(mol_trans)\n",
        "Chem.AllChem.EmbedMolecule(mol_trans,useRandomCoords=False, randomSeed = 117)\n",
        "Chem.MolToXYZFile(mol_trans,\"trans.xyz\")\n",
        "mol_trans"
      ],
      "metadata": {
        "colab": {
          "base_uri": "https://localhost:8080/",
          "height": 167
        },
        "outputId": "92bc44e1-22f7-4da6-90bc-ff8bc8a97d14",
        "id": "JD9pkpCKic8B"
      },
      "execution_count": 11,
      "outputs": [
        {
          "output_type": "execute_result",
          "data": {
            "text/plain": [
              "<rdkit.Chem.rdchem.Mol at 0x7a84237e2b90>"
            ],
            "image/png": "[encoded data removed]"
          },
          "metadata": {},
          "execution_count": 11
        }
      ]
    },
    {
      "cell_type": "code",
      "source": [
        "cat trans.xyz"
      ],
      "metadata": {
        "colab": {
          "base_uri": "https://localhost:8080/"
        },
        "id": "wdxfgwqri4m1",
        "outputId": "68c2c59e-98b3-4ef4-c454-5474e3a1a1fc"
      },
      "execution_count": 12,
      "outputs": [
        {
          "output_type": "stream",
          "name": "stdout",
          "text": [
            "9\n",
            "\n",
            "F      2.531086   -0.018901   -0.127428\n",
            "C      1.247998   -0.409791   -0.108192\n",
            "C      0.290031    0.466354    0.026514\n",
            "C     -1.140194    0.045176    0.049478\n",
            "H      1.000126   -1.460952   -0.204970\n",
            "H      0.479347    1.517127    0.126003\n",
            "H     -1.255347   -1.004178   -0.314946\n",
            "H     -1.694646    0.764347   -0.567021\n",
            "H     -1.458401    0.100818    1.120562\n"
          ]
        }
      ]
    },
    {
      "cell_type": "code",
      "source": [
        "mol_trans1 = gto.M(atom = \"trans.xyz\")\n",
        "mol_trans1.basis = \"6-31G\"\n",
        "mf1 = mol_trans1.KS()\n",
        "mf1.xc = 'b3lyp'"
      ],
      "metadata": {
        "id": "APp6uARAjIzz"
      },
      "execution_count": 13,
      "outputs": []
    },
    {
      "cell_type": "code",
      "source": [
        "mf1.kernel()"
      ],
      "metadata": {
        "colab": {
          "base_uri": "https://localhost:8080/"
        },
        "id": "3aqHbIVpjuxc",
        "outputId": "5940f2d3-be48-4c58-96f2-319468c291fd"
      },
      "execution_count": 14,
      "outputs": [
        {
          "output_type": "stream",
          "name": "stdout",
          "text": [
            "converged SCF energy = -214.249799819274\n"
          ]
        },
        {
          "output_type": "execute_result",
          "data": {
            "text/plain": [
              "-214.24979981927373"
            ]
          },
          "metadata": {},
          "execution_count": 14
        }
      ]
    },
    {
      "cell_type": "code",
      "source": [
        "resultado_trans =[mf1.kernel()]"
      ],
      "metadata": {
        "colab": {
          "base_uri": "https://localhost:8080/"
        },
        "id": "9TadilnKk0S-",
        "outputId": "a51827c0-6eb4-4cd8-e6ed-e968ff783b61"
      },
      "execution_count": 15,
      "outputs": [
        {
          "output_type": "stream",
          "name": "stdout",
          "text": [
            "converged SCF energy = -214.249799819274\n"
          ]
        }
      ]
    },
    {
      "cell_type": "markdown",
      "source": [
        "# Molecula Cis rotada(90°)"
      ],
      "metadata": {
        "id": "C-DBrGsnlZLD"
      }
    },
    {
      "cell_type": "code",
      "source": [
        "Chem.AllChem.SetDihedralDeg(mol_cis.GetConformer(0),3,2,1,0,90.0)\n",
        "Chem.MolToXYZFile(mol_cis, \"90.xyz\")\n",
        "mol_cis"
      ],
      "metadata": {
        "colab": {
          "base_uri": "https://localhost:8080/",
          "height": 167
        },
        "id": "6IFw9KOPbbAu",
        "outputId": "2e2a28e1-6f51-41a3-fc6c-be2f3614089b"
      },
      "execution_count": 16,
      "outputs": [
        {
          "output_type": "execute_result",
          "data": {
            "text/plain": [
              "<rdkit.Chem.rdchem.Mol at 0x7a843271b8b0>"
            ],
            "image/png": "[encoded data removed]"
          },
          "metadata": {},
          "execution_count": 16
        }
      ]
    },
    {
      "cell_type": "code",
      "source": [
        "cat 90.xyz"
      ],
      "metadata": {
        "colab": {
          "base_uri": "https://localhost:8080/"
        },
        "id": "lHi629qXcJAW",
        "outputId": "6bc5e9a7-6e26-46ce-ee0e-76450f58860d"
      },
      "execution_count": 17,
      "outputs": [
        {
          "output_type": "stream",
          "name": "stdout",
          "text": [
            "9\n",
            "\n",
            "F      1.874246    0.262754    1.331355\n",
            "C      1.324428    0.114406    0.086771\n",
            "C      0.211875   -0.600289   -0.107579\n",
            "C     -1.080091    0.141775   -0.008462\n",
            "H      1.769638    0.570620   -0.789248\n",
            "H      0.255235   -1.675106   -0.327775\n",
            "H     -1.411267    0.291329    1.031244\n",
            "H     -1.860128   -0.435483   -0.531530\n",
            "H     -0.982917    1.128011   -0.520291\n"
          ]
        }
      ]
    },
    {
      "cell_type": "code",
      "source": [
        "mol_90 = gto.M(atom = \"90.xyz\")\n",
        "mol_90.basis = \"6-31G\"\n",
        "mf2 = mol_90.KS()\n",
        "mf2.xc = 'b3lyp'"
      ],
      "metadata": {
        "id": "NisFQi0elrKb"
      },
      "execution_count": 18,
      "outputs": []
    },
    {
      "cell_type": "code",
      "source": [
        "mf2.kernel()"
      ],
      "metadata": {
        "colab": {
          "base_uri": "https://localhost:8080/"
        },
        "id": "R6NSEUgWmSUb",
        "outputId": "1cd6bf76-0eb9-40eb-a91b-49cd9ce9a148"
      },
      "execution_count": 19,
      "outputs": [
        {
          "output_type": "stream",
          "name": "stdout",
          "text": [
            "converged SCF energy = -214.08748631938\n"
          ]
        },
        {
          "output_type": "execute_result",
          "data": {
            "text/plain": [
              "-214.0874863193801"
            ]
          },
          "metadata": {},
          "execution_count": 19
        }
      ]
    },
    {
      "cell_type": "code",
      "source": [
        "resultado_CA = [mf2.kernel()]"
      ],
      "metadata": {
        "colab": {
          "base_uri": "https://localhost:8080/"
        },
        "id": "3FMN-xVuma1j",
        "outputId": "3203835a-9138-4fe7-f5ee-29c19efce874"
      },
      "execution_count": 20,
      "outputs": [
        {
          "output_type": "stream",
          "name": "stdout",
          "text": [
            "converged SCF energy = -214.08748631938\n"
          ]
        }
      ]
    },
    {
      "cell_type": "markdown",
      "source": [
        "# Grafico"
      ],
      "metadata": {
        "id": "PbA8fkq_mvFa"
      }
    },
    {
      "cell_type": "code",
      "source": [
        "pip install git+https://github.com/giacomomarchioro/PyEnergyDiagrams"
      ],
      "metadata": {
        "colab": {
          "base_uri": "https://localhost:8080/"
        },
        "id": "vtVJXnMinQc1",
        "outputId": "0110d85c-6898-413f-f9af-9581154879fb"
      },
      "execution_count": 21,
      "outputs": [
        {
          "output_type": "stream",
          "name": "stdout",
          "text": [
            "Collecting git+https://github.com/giacomomarchioro/PyEnergyDiagrams\n",
            "  Cloning https://github.com/giacomomarchioro/PyEnergyDiagrams to /tmp/pip-req-build-1jkqv4mx\n",
            "  Running command git clone --filter=blob:none --quiet https://github.com/giacomomarchioro/PyEnergyDiagrams /tmp/pip-req-build-1jkqv4mx\n",
            "  Resolved https://github.com/giacomomarchioro/PyEnergyDiagrams to commit 3d6086564aa99aa0a0f3db4a510b736015562d5c\n",
            "  Preparing metadata (setup.py) ... \u001b[?25l\u001b[?25hdone\n",
            "Requirement already satisfied: matplotlib in /usr/local/lib/python3.10/dist-packages (from energydiagram==0.2.0) (3.7.1)\n",
            "Requirement already satisfied: contourpy>=1.0.1 in /usr/local/lib/python3.10/dist-packages (from matplotlib->energydiagram==0.2.0) (1.1.1)\n",
            "Requirement already satisfied: cycler>=0.10 in /usr/local/lib/python3.10/dist-packages (from matplotlib->energydiagram==0.2.0) (0.12.1)\n",
            "Requirement already satisfied: fonttools>=4.22.0 in /usr/local/lib/python3.10/dist-packages (from matplotlib->energydiagram==0.2.0) (4.43.1)\n",
            "Requirement already satisfied: kiwisolver>=1.0.1 in /usr/local/lib/python3.10/dist-packages (from matplotlib->energydiagram==0.2.0) (1.4.5)\n",
            "Requirement already satisfied: numpy>=1.20 in /usr/local/lib/python3.10/dist-packages (from matplotlib->energydiagram==0.2.0) (1.23.5)\n",
            "Requirement already satisfied: packaging>=20.0 in /usr/local/lib/python3.10/dist-packages (from matplotlib->energydiagram==0.2.0) (23.2)\n",
            "Requirement already satisfied: pillow>=6.2.0 in /usr/local/lib/python3.10/dist-packages (from matplotlib->energydiagram==0.2.0) (9.4.0)\n",
            "Requirement already satisfied: pyparsing>=2.3.1 in /usr/local/lib/python3.10/dist-packages (from matplotlib->energydiagram==0.2.0) (3.1.1)\n",
            "Requirement already satisfied: python-dateutil>=2.7 in /usr/local/lib/python3.10/dist-packages (from matplotlib->energydiagram==0.2.0) (2.8.2)\n",
            "Requirement already satisfied: six>=1.5 in /usr/local/lib/python3.10/dist-packages (from python-dateutil>=2.7->matplotlib->energydiagram==0.2.0) (1.16.0)\n",
            "Building wheels for collected packages: energydiagram\n",
            "  Building wheel for energydiagram (setup.py) ... \u001b[?25l\u001b[?25hdone\n",
            "  Created wheel for energydiagram: filename=energydiagram-0.2.0-py3-none-any.whl size=9465 sha256=a652f258403b8bd6f6df96cb1baebb8470fef9fa5e8c13342745154fdd56e99b\n",
            "  Stored in directory: /tmp/pip-ephem-wheel-cache-vr0t05uk/wheels/fd/36/8c/10ed87cd41f9638b1e3a44dabe7e1e185131d967ea6ed395cf\n",
            "Successfully built energydiagram\n",
            "Installing collected packages: energydiagram\n",
            "Successfully installed energydiagram-0.2.0\n"
          ]
        }
      ]
    },
    {
      "cell_type": "code",
      "source": [
        "import matplotlib.pyplot as plt\n",
        "from energydiagram import ED\n",
        "diagram = ED()\n",
        "diagram.add_level(mf.kernel(),'Cis')\n",
        "diagram.add_level(mf2.kernel(),'TS',color='g')\n",
        "diagram.add_level(mf1.kernel(),'trans')\n",
        "\n",
        "diagram.add_link(0,1)\n",
        "diagram.add_link(1,2)\n",
        "diagram.plot(ylabel=\"Energy / $kcal$ $mol^{-1}$\") # this is the default ylabel\n"
      ],
      "metadata": {
        "colab": {
          "base_uri": "https://localhost:8080/",
          "height": 448
        },
        "id": "3KqNJVRhmyzU",
        "outputId": "13c764cf-18c7-41c2-bdb1-55774b369a67"
      },
      "execution_count": 22,
      "outputs": [
        {
          "output_type": "stream",
          "name": "stdout",
          "text": [
            "converged SCF energy = -214.251990680734\n",
            "converged SCF energy = -214.08748631938\n",
            "converged SCF energy = -214.249799819274\n"
          ]
        },
        {
          "output_type": "display_data",
          "data": {
            "text/plain": [
              "<Figure size 640x480 with 1 Axes>"
            ],
            "image/png": "[encoded data removed]"
          },
          "metadata": {}
        }
      ]
    },
    {
      "cell_type": "markdown",
      "source": [
        "# ¿Reacción endotérmica o exotérmica?"
      ],
      "metadata": {
        "id": "EMafgzIHoHQB"
      }
    },
    {
      "cell_type": "code",
      "source": [
        "E_reactante = mf.kernel()"
      ],
      "metadata": {
        "colab": {
          "base_uri": "https://localhost:8080/"
        },
        "id": "38cxyKlQoQpW",
        "outputId": "a9faa587-da0b-4d07-d851-8c67f9b57aea"
      },
      "execution_count": 23,
      "outputs": [
        {
          "output_type": "stream",
          "name": "stdout",
          "text": [
            "converged SCF energy = -214.251990680735\n"
          ]
        }
      ]
    },
    {
      "cell_type": "code",
      "source": [
        "E_producto = mf1.kernel()"
      ],
      "metadata": {
        "colab": {
          "base_uri": "https://localhost:8080/"
        },
        "id": "JI-d-pcJoyk_",
        "outputId": "0f3bc8f8-9778-4a26-b82f-dc50d31b4c73"
      },
      "execution_count": 24,
      "outputs": [
        {
          "output_type": "stream",
          "name": "stdout",
          "text": [
            "converged SCF energy = -214.249799819273\n"
          ]
        }
      ]
    },
    {
      "cell_type": "code",
      "source": [
        "E_entalpia = E_producto - E_reactante\n",
        "E_entalpia"
      ],
      "metadata": {
        "colab": {
          "base_uri": "https://localhost:8080/"
        },
        "id": "SUdu6z9Eo9JV",
        "outputId": "e8b06761-3893-4f60-a93e-2dad1e55eb0b"
      },
      "execution_count": 25,
      "outputs": [
        {
          "output_type": "execute_result",
          "data": {
            "text/plain": [
              "0.0021908614615426814"
            ]
          },
          "metadata": {},
          "execution_count": 25
        }
      ]
    },
    {
      "cell_type": "markdown",
      "source": [
        "Entonces debido a que la energía de entalpia resulta positiva podemos afirmar que es una reacción  **Exotermica**\n",
        "\n",
        "A continuación Calcularemos la energía de activación."
      ],
      "metadata": {
        "id": "9xU7R8yupJ6j"
      }
    },
    {
      "cell_type": "code",
      "source": [
        "E_comp_act = mf2.kernel()"
      ],
      "metadata": {
        "colab": {
          "base_uri": "https://localhost:8080/"
        },
        "id": "aYQFMHTpp0ux",
        "outputId": "954f00eb-9205-4a09-bf6f-b14a6fe5dfa6"
      },
      "execution_count": 26,
      "outputs": [
        {
          "output_type": "stream",
          "name": "stdout",
          "text": [
            "converged SCF energy = -214.08748631938\n"
          ]
        }
      ]
    },
    {
      "cell_type": "code",
      "source": [
        "E_act = E_comp_act - E_reactante\n",
        "print(\"el valor de la energia de activación es de \",round(E_act,2),\"J\")"
      ],
      "metadata": {
        "colab": {
          "base_uri": "https://localhost:8080/"
        },
        "id": "ZwMGm_-DqR-a",
        "outputId": "313044a0-883f-4997-aa47-54c08eb1ce4f"
      },
      "execution_count": 27,
      "outputs": [
        {
          "output_type": "stream",
          "name": "stdout",
          "text": [
            "el valor de la energia de activación es de  0.16 J\n"
          ]
        }
      ]
    }
  ]
}