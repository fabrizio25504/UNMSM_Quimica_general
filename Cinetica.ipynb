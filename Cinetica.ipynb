{
  "nbformat": 4,
  "nbformat_minor": 0,
  "metadata": {
    "colab": {
      "provenance": [],
      "authorship_tag": "ABX9TyNq2zsFVUhNSDonLxRIjw90",
      "include_colab_link": true
    },
    "kernelspec": {
      "name": "python3",
      "display_name": "Python 3"
    },
    "language_info": {
      "name": "python"
    }
  },
  "cells": [
    {
      "cell_type": "markdown",
      "metadata": {
        "id": "view-in-github",
        "colab_type": "text"
      },
      "source": [
        "<a href=\"https://colab.research.google.com/github/fabrizio25504/UNMSM_Quimica_general/blob/main/Cinetica.ipynb\" target=\"_parent\"><img src=\"https://colab.research.google.com/assets/colab-badge.svg\" alt=\"Open In Colab\"/></a>"
      ]
    },
    {
      "cell_type": "code",
      "execution_count": 1,
      "metadata": {
        "colab": {
          "base_uri": "https://localhost:8080/"
        },
        "id": "dlkL42xUTybR",
        "outputId": "0619714f-9e32-4f5e-a4e6-dae484eefbed"
      },
      "outputs": [
        {
          "output_type": "stream",
          "name": "stdout",
          "text": [
            "Collecting rdkit\n",
            "  Downloading rdkit-2023.9.1-cp310-cp310-manylinux_2_17_x86_64.manylinux2014_x86_64.whl (30.5 MB)\n",
            "\u001b[2K     \u001b[90m━━━━━━━━━━━━━━━━━━━━━━━━━━━━━━━━━━━━━━━━\u001b[0m \u001b[32m30.5/30.5 MB\u001b[0m \u001b[31m39.3 MB/s\u001b[0m eta \u001b[36m0:00:00\u001b[0m\n",
            "\u001b[?25hRequirement already satisfied: numpy in /usr/local/lib/python3.10/dist-packages (from rdkit) (1.23.5)\n",
            "Requirement already satisfied: Pillow in /usr/local/lib/python3.10/dist-packages (from rdkit) (9.4.0)\n",
            "Installing collected packages: rdkit\n",
            "Successfully installed rdkit-2023.9.1\n",
            "Collecting pyscf\n",
            "  Downloading pyscf-2.4.0-py3-none-manylinux_2_17_x86_64.manylinux2014_x86_64.whl (47.3 MB)\n",
            "\u001b[2K     \u001b[90m━━━━━━━━━━━━━━━━━━━━━━━━━━━━━━━━━━━━━━━━\u001b[0m \u001b[32m47.3/47.3 MB\u001b[0m \u001b[31m10.2 MB/s\u001b[0m eta \u001b[36m0:00:00\u001b[0m\n",
            "\u001b[?25hRequirement already satisfied: numpy!=1.16,!=1.17,>=1.13 in /usr/local/lib/python3.10/dist-packages (from pyscf) (1.23.5)\n",
            "Requirement already satisfied: scipy!=1.5.0,!=1.5.1 in /usr/local/lib/python3.10/dist-packages (from pyscf) (1.11.3)\n",
            "Requirement already satisfied: h5py>=2.7 in /usr/local/lib/python3.10/dist-packages (from pyscf) (3.9.0)\n",
            "Requirement already satisfied: setuptools in /usr/local/lib/python3.10/dist-packages (from pyscf) (67.7.2)\n",
            "Installing collected packages: pyscf\n",
            "Successfully installed pyscf-2.4.0\n"
          ]
        }
      ],
      "source": [
        "! pip install rdkit\n",
        "! pip install pyscf"
      ]
    },
    {
      "cell_type": "code",
      "source": [
        "from rdkit import Chem\n",
        "from rdkit.Chem import Draw\n",
        "from rdkit.Chem import AllChem\n",
        "from rdkit.Chem.Draw import IPythonConsole\n",
        "IPythonConsole.drawOptions.addAtomIndices = True"
      ],
      "metadata": {
        "id": "wUaMIHs7Zwzf"
      },
      "execution_count": 2,
      "outputs": []
    },
    {
      "cell_type": "markdown",
      "source": [
        "# Molecula sis"
      ],
      "metadata": {
        "id": "AR4DCKggiFxM"
      }
    },
    {
      "cell_type": "code",
      "source": [
        "smiles = \"F\\C=C/C\"\n",
        "mol_cis = Chem.MolFromSmiles(smiles)\n",
        "mol_cis = Chem.AddHs(mol_cis)\n",
        "Chem.AllChem.EmbedMolecule(mol_cis,useRandomCoords=False, randomSeed = 117)\n",
        "Chem.MolToXYZFile(mol_cis,\"cis.xyz\")\n",
        "mol_cis"
      ],
      "metadata": {
        "colab": {
          "base_uri": "https://localhost:8080/",
          "height": 167
        },
        "id": "R2Rh6q51aVb4",
        "outputId": "3dcd178e-6ff6-4e30-9c53-39dd34355420"
      },
      "execution_count": 39,
      "outputs": [
        {
          "output_type": "execute_result",
          "data": {
            "text/plain": [
              "<rdkit.Chem.rdchem.Mol at 0x7ef8cf32cc10>"
            ],
            "image/png": "[encoded data removed]"
          },
          "metadata": {},
          "execution_count": 39
        }
      ]
    },
    {
      "cell_type": "code",
      "source": [
        "cat cis.xyz"
      ],
      "metadata": {
        "colab": {
          "base_uri": "https://localhost:8080/"
        },
        "id": "0k7-RGuOavYO",
        "outputId": "19536ad4-ebe5-4a1b-8e91-bb34f6657394"
      },
      "execution_count": 40,
      "outputs": [
        {
          "output_type": "stream",
          "name": "stdout",
          "text": [
            "9\n",
            "\n",
            "F      1.278133    1.454392    0.361707\n",
            "C      1.324428    0.114406    0.086771\n",
            "C      0.211875   -0.600289   -0.107579\n",
            "C     -1.080091    0.141775   -0.008462\n",
            "H      2.264732   -0.419036    0.015914\n",
            "H      0.255235   -1.675106   -0.327775\n",
            "H     -1.411267    0.291329    1.031244\n",
            "H     -1.860128   -0.435483   -0.531530\n",
            "H     -0.982917    1.128011   -0.520291\n"
          ]
        }
      ]
    },
    {
      "cell_type": "code",
      "source": [
        "from pyscf import gto, scf"
      ],
      "metadata": {
        "id": "6_RzfWIThRll"
      },
      "execution_count": 43,
      "outputs": []
    },
    {
      "cell_type": "code",
      "source": [
        "mol_cis1 = gto.M(atom=\"cis.xyz\")"
      ],
      "metadata": {
        "id": "tqx2EJZJhbW8"
      },
      "execution_count": 44,
      "outputs": []
    },
    {
      "cell_type": "code",
      "source": [
        "# set basis set\n",
        "mol_cis1.basis = \"6-31G\"\n",
        "\n",
        "# set the functional\n",
        "mf = mol_cis1.KS()\n",
        "mf.xc = 'b3lyp'"
      ],
      "metadata": {
        "id": "Cfrja1sYhm30"
      },
      "execution_count": 55,
      "outputs": []
    },
    {
      "cell_type": "code",
      "source": [
        "mf.kernel()"
      ],
      "metadata": {
        "colab": {
          "base_uri": "https://localhost:8080/"
        },
        "id": "sXm5Nf_EhtWM",
        "outputId": "fb6750d5-9b78-4931-980f-e1d071592bc7"
      },
      "execution_count": 56,
      "outputs": [
        {
          "output_type": "stream",
          "name": "stdout",
          "text": [
            "converged SCF energy = -214.251990680734\n"
          ]
        },
        {
          "output_type": "execute_result",
          "data": {
            "text/plain": [
              "-214.25199068073414"
            ]
          },
          "metadata": {},
          "execution_count": 56
        }
      ]
    },
    {
      "cell_type": "code",
      "source": [
        "resultado_cis =[mf.kernel()]"
      ],
      "metadata": {
        "colab": {
          "base_uri": "https://localhost:8080/"
        },
        "id": "5HGnz_KFk-q-",
        "outputId": "d3238a11-a2cf-42de-bde2-4e91b59e88a9"
      },
      "execution_count": 58,
      "outputs": [
        {
          "output_type": "stream",
          "name": "stdout",
          "text": [
            "converged SCF energy = -214.251990680734\n"
          ]
        }
      ]
    },
    {
      "cell_type": "markdown",
      "source": [
        "# Molecula trans"
      ],
      "metadata": {
        "id": "CbtP9NoLiSvU"
      }
    },
    {
      "cell_type": "code",
      "source": [
        "smiles = \"F/C=C/C\"\n",
        "mol_trans = Chem.MolFromSmiles(smiles)\n",
        "mol_trans = Chem.AddHs(mol_trans)\n",
        "Chem.AllChem.EmbedMolecule(mol_trans,useRandomCoords=False, randomSeed = 117)\n",
        "Chem.MolToXYZFile(mol_trans,\"trans.xyz\")\n",
        "mol_trans"
      ],
      "metadata": {
        "colab": {
          "base_uri": "https://localhost:8080/",
          "height": 167
        },
        "outputId": "4efb089e-6ad0-477d-ce2d-5ecd6a72fa1f",
        "id": "JD9pkpCKic8B"
      },
      "execution_count": 51,
      "outputs": [
        {
          "output_type": "execute_result",
          "data": {
            "text/plain": [
              "<rdkit.Chem.rdchem.Mol at 0x7ef8bb9435a0>"
            ],
            "image/png": "[encoded data removed]"
          },
          "metadata": {},
          "execution_count": 51
        }
      ]
    },
    {
      "cell_type": "code",
      "source": [
        "cat trans.xyz"
      ],
      "metadata": {
        "colab": {
          "base_uri": "https://localhost:8080/"
        },
        "id": "wdxfgwqri4m1",
        "outputId": "47718463-5e98-4854-e478-130baf74c3ce"
      },
      "execution_count": 52,
      "outputs": [
        {
          "output_type": "stream",
          "name": "stdout",
          "text": [
            "9\n",
            "\n",
            "F      2.531086   -0.018901   -0.127428\n",
            "C      1.247998   -0.409791   -0.108192\n",
            "C      0.290031    0.466354    0.026514\n",
            "C     -1.140194    0.045176    0.049478\n",
            "H      1.000126   -1.460952   -0.204970\n",
            "H      0.479347    1.517127    0.126003\n",
            "H     -1.255347   -1.004178   -0.314946\n",
            "H     -1.694646    0.764347   -0.567021\n",
            "H     -1.458401    0.100818    1.120562\n"
          ]
        }
      ]
    },
    {
      "cell_type": "code",
      "source": [
        "mol_trans1 = gto.M(atom = \"trans.xyz\")\n",
        "mol_trans1.basis = \"6-31G\"\n",
        "mf1 = mol_trans1.KS()\n",
        "mf1.xc = 'b3lyp'"
      ],
      "metadata": {
        "id": "APp6uARAjIzz"
      },
      "execution_count": 53,
      "outputs": []
    },
    {
      "cell_type": "code",
      "source": [
        "mf1.kernel()"
      ],
      "metadata": {
        "colab": {
          "base_uri": "https://localhost:8080/"
        },
        "id": "3aqHbIVpjuxc",
        "outputId": "aed8082c-f02d-4555-c310-5783cdab5488"
      },
      "execution_count": 59,
      "outputs": [
        {
          "output_type": "stream",
          "name": "stdout",
          "text": [
            "converged SCF energy = -214.249799819274\n"
          ]
        },
        {
          "output_type": "execute_result",
          "data": {
            "text/plain": [
              "-214.24979981927356"
            ]
          },
          "metadata": {},
          "execution_count": 59
        }
      ]
    },
    {
      "cell_type": "code",
      "source": [
        "resultado_trans =[mf1.kernel()]"
      ],
      "metadata": {
        "colab": {
          "base_uri": "https://localhost:8080/"
        },
        "id": "9TadilnKk0S-",
        "outputId": "101cd5d0-4462-4ff7-c564-e657d23ec5f9"
      },
      "execution_count": 57,
      "outputs": [
        {
          "output_type": "stream",
          "name": "stdout",
          "text": [
            "converged SCF energy = -214.249799819273\n"
          ]
        }
      ]
    },
    {
      "cell_type": "markdown",
      "source": [
        "# Molecula Cis rotada(90°)"
      ],
      "metadata": {
        "id": "C-DBrGsnlZLD"
      }
    },
    {
      "cell_type": "code",
      "source": [
        "Chem.AllChem.SetDihedralDeg(mol_cis.GetConformer(0),3,2,1,0,90.0)\n",
        "Chem.MolToXYZFile(mol_cis, \"90.xyz\")\n",
        "mol_cis"
      ],
      "metadata": {
        "colab": {
          "base_uri": "https://localhost:8080/",
          "height": 167
        },
        "id": "6IFw9KOPbbAu",
        "outputId": "c2c9b0fa-4435-46c2-dd6f-58cc8c847e15"
      },
      "execution_count": 41,
      "outputs": [
        {
          "output_type": "execute_result",
          "data": {
            "text/plain": [
              "<rdkit.Chem.rdchem.Mol at 0x7ef8cf32cc10>"
            ],
            "image/png": "[encoded data removed]"
          },
          "metadata": {},
          "execution_count": 41
        }
      ]
    },
    {
      "cell_type": "code",
      "source": [
        "cat 90.xyz"
      ],
      "metadata": {
        "colab": {
          "base_uri": "https://localhost:8080/"
        },
        "id": "lHi629qXcJAW",
        "outputId": "0f576fd4-f529-4b06-c684-1c933eaaf794"
      },
      "execution_count": 42,
      "outputs": [
        {
          "output_type": "stream",
          "name": "stdout",
          "text": [
            "9\n",
            "\n",
            "F      1.874246    0.262754    1.331355\n",
            "C      1.324428    0.114406    0.086771\n",
            "C      0.211875   -0.600289   -0.107579\n",
            "C     -1.080091    0.141775   -0.008462\n",
            "H      1.769638    0.570620   -0.789248\n",
            "H      0.255235   -1.675106   -0.327775\n",
            "H     -1.411267    0.291329    1.031244\n",
            "H     -1.860128   -0.435483   -0.531530\n",
            "H     -0.982917    1.128011   -0.520291\n"
          ]
        }
      ]
    },
    {
      "cell_type": "code",
      "source": [
        "mol_90 = gto.M(atom = \"90.xyz\")\n",
        "mol_90.basis = \"6-31G\"\n",
        "mf2 = mol_90.KS()\n",
        "mf2.xc = 'b3lyp'"
      ],
      "metadata": {
        "id": "NisFQi0elrKb"
      },
      "execution_count": 61,
      "outputs": []
    },
    {
      "cell_type": "code",
      "source": [
        "mf2.kernel()"
      ],
      "metadata": {
        "colab": {
          "base_uri": "https://localhost:8080/"
        },
        "id": "R6NSEUgWmSUb",
        "outputId": "b680d34b-ba7a-4729-bd05-86c42fdb2842"
      },
      "execution_count": 62,
      "outputs": [
        {
          "output_type": "stream",
          "name": "stdout",
          "text": [
            "converged SCF energy = -214.08748631938\n"
          ]
        },
        {
          "output_type": "execute_result",
          "data": {
            "text/plain": [
              "-214.08748631938016"
            ]
          },
          "metadata": {},
          "execution_count": 62
        }
      ]
    },
    {
      "cell_type": "code",
      "source": [
        "resultado_CA = [mf2.kernel()]"
      ],
      "metadata": {
        "colab": {
          "base_uri": "https://localhost:8080/"
        },
        "id": "3FMN-xVuma1j",
        "outputId": "f2618f95-f958-41b6-b3bc-b12b8bf788b4"
      },
      "execution_count": 70,
      "outputs": [
        {
          "output_type": "stream",
          "name": "stdout",
          "text": [
            "converged SCF energy = -214.08748631938\n"
          ]
        }
      ]
    },
    {
      "cell_type": "markdown",
      "source": [
        "# Grafico"
      ],
      "metadata": {
        "id": "PbA8fkq_mvFa"
      }
    },
    {
      "cell_type": "code",
      "source": [
        "pip install git+https://github.com/giacomomarchioro/PyEnergyDiagrams"
      ],
      "metadata": {
        "colab": {
          "base_uri": "https://localhost:8080/"
        },
        "id": "vtVJXnMinQc1",
        "outputId": "24fc58f8-af6d-4317-b62f-b484e6a9187a"
      },
      "execution_count": 66,
      "outputs": [
        {
          "output_type": "stream",
          "name": "stdout",
          "text": [
            "Collecting git+https://github.com/giacomomarchioro/PyEnergyDiagrams\n",
            "  Cloning https://github.com/giacomomarchioro/PyEnergyDiagrams to /tmp/pip-req-build-pyw7po52\n",
            "  Running command git clone --filter=blob:none --quiet https://github.com/giacomomarchioro/PyEnergyDiagrams /tmp/pip-req-build-pyw7po52\n",
            "  Resolved https://github.com/giacomomarchioro/PyEnergyDiagrams to commit 3d6086564aa99aa0a0f3db4a510b736015562d5c\n",
            "  Preparing metadata (setup.py) ... \u001b[?25l\u001b[?25hdone\n",
            "Requirement already satisfied: matplotlib in /usr/local/lib/python3.10/dist-packages (from energydiagram==0.2.0) (3.7.1)\n",
            "Requirement already satisfied: contourpy>=1.0.1 in /usr/local/lib/python3.10/dist-packages (from matplotlib->energydiagram==0.2.0) (1.1.1)\n",
            "Requirement already satisfied: cycler>=0.10 in /usr/local/lib/python3.10/dist-packages (from matplotlib->energydiagram==0.2.0) (0.12.1)\n",
            "Requirement already satisfied: fonttools>=4.22.0 in /usr/local/lib/python3.10/dist-packages (from matplotlib->energydiagram==0.2.0) (4.43.1)\n",
            "Requirement already satisfied: kiwisolver>=1.0.1 in /usr/local/lib/python3.10/dist-packages (from matplotlib->energydiagram==0.2.0) (1.4.5)\n",
            "Requirement already satisfied: numpy>=1.20 in /usr/local/lib/python3.10/dist-packages (from matplotlib->energydiagram==0.2.0) (1.23.5)\n",
            "Requirement already satisfied: packaging>=20.0 in /usr/local/lib/python3.10/dist-packages (from matplotlib->energydiagram==0.2.0) (23.2)\n",
            "Requirement already satisfied: pillow>=6.2.0 in /usr/local/lib/python3.10/dist-packages (from matplotlib->energydiagram==0.2.0) (9.4.0)\n",
            "Requirement already satisfied: pyparsing>=2.3.1 in /usr/local/lib/python3.10/dist-packages (from matplotlib->energydiagram==0.2.0) (3.1.1)\n",
            "Requirement already satisfied: python-dateutil>=2.7 in /usr/local/lib/python3.10/dist-packages (from matplotlib->energydiagram==0.2.0) (2.8.2)\n",
            "Requirement already satisfied: six>=1.5 in /usr/local/lib/python3.10/dist-packages (from python-dateutil>=2.7->matplotlib->energydiagram==0.2.0) (1.16.0)\n",
            "Building wheels for collected packages: energydiagram\n",
            "  Building wheel for energydiagram (setup.py) ... \u001b[?25l\u001b[?25hdone\n",
            "  Created wheel for energydiagram: filename=energydiagram-0.2.0-py3-none-any.whl size=9465 sha256=f6111a8676ffa7fa685428bc1df84c8375055315d9cb2594517a3cc03215dc8c\n",
            "  Stored in directory: /tmp/pip-ephem-wheel-cache-fqhdvlq9/wheels/fd/36/8c/10ed87cd41f9638b1e3a44dabe7e1e185131d967ea6ed395cf\n",
            "Successfully built energydiagram\n",
            "Installing collected packages: energydiagram\n",
            "Successfully installed energydiagram-0.2.0\n"
          ]
        }
      ]
    },
    {
      "cell_type": "code",
      "source": [
        "import matplotlib.pyplot as plt\n",
        "from energydiagram import ED\n",
        "diagram = ED()\n",
        "diagram.add_level(mf.kernel(),'Cis')\n",
        "diagram.add_level(mf2.kernel(),'TS',color='g')\n",
        "diagram.add_level(mf1.kernel(),'trans')\n",
        "\n",
        "diagram.add_link(0,1)\n",
        "diagram.add_link(1,2)\n",
        "diagram.plot(ylabel=\"Energy / $kcal$ $mol^{-1}$\") # this is the default ylabel\n"
      ],
      "metadata": {
        "colab": {
          "base_uri": "https://localhost:8080/",
          "height": 445
        },
        "id": "3KqNJVRhmyzU",
        "outputId": "e8f27d32-35ad-45ea-85db-c08ef105b00d"
      },
      "execution_count": 69,
      "outputs": [
        {
          "output_type": "stream",
          "name": "stdout",
          "text": [
            "converged SCF energy = -214.251990680734\n",
            "converged SCF energy = -214.08748631938\n",
            "converged SCF energy = -214.249799819273\n"
          ]
        },
        {
          "output_type": "display_data",
          "data": {
            "text/plain": [
              "<Figure size 640x480 with 1 Axes>"
            ],
            "image/png": "[encoded data removed]"
          },
          "metadata": {}
        }
      ]
    },
    {
      "cell_type": "markdown",
      "source": [
        "# ¿Reacción endotérmica o exotérmica?"
      ],
      "metadata": {
        "id": "EMafgzIHoHQB"
      }
    },
    {
      "cell_type": "code",
      "source": [
        "E_reactante = mf.kernel()"
      ],
      "metadata": {
        "colab": {
          "base_uri": "https://localhost:8080/"
        },
        "id": "38cxyKlQoQpW",
        "outputId": "2581d198-a032-4dd2-f48f-8dcf8cf3ff7e"
      },
      "execution_count": 71,
      "outputs": [
        {
          "output_type": "stream",
          "name": "stdout",
          "text": [
            "converged SCF energy = -214.251990680734\n"
          ]
        }
      ]
    },
    {
      "cell_type": "code",
      "source": [
        "E_producto = mf1.kernel()"
      ],
      "metadata": {
        "colab": {
          "base_uri": "https://localhost:8080/"
        },
        "id": "JI-d-pcJoyk_",
        "outputId": "e8ff5878-3bf5-49ac-c579-94ace0a5a53a"
      },
      "execution_count": 72,
      "outputs": [
        {
          "output_type": "stream",
          "name": "stdout",
          "text": [
            "converged SCF energy = -214.249799819274\n"
          ]
        }
      ]
    },
    {
      "cell_type": "code",
      "source": [
        "E_entalpia = E_producto - E_reactante\n",
        "E_entalpia"
      ],
      "metadata": {
        "colab": {
          "base_uri": "https://localhost:8080/"
        },
        "id": "SUdu6z9Eo9JV",
        "outputId": "ee94d258-0a9e-42dd-a6b5-b33d78f3140c"
      },
      "execution_count": 73,
      "outputs": [
        {
          "output_type": "execute_result",
          "data": {
            "text/plain": [
              "0.0021908614606331867"
            ]
          },
          "metadata": {},
          "execution_count": 73
        }
      ]
    },
    {
      "cell_type": "markdown",
      "source": [
        "Entonces debido a que la energía de entalpia resulta positiva podemos afirmar que es una reacción  **Exotermica**"
      ],
      "metadata": {
        "id": "9xU7R8yupJ6j"
      }
    },
    {
      "cell_type": "code",
      "source": [
        "E_comp_act = mf2.kernel()"
      ],
      "metadata": {
        "colab": {
          "base_uri": "https://localhost:8080/"
        },
        "id": "aYQFMHTpp0ux",
        "outputId": "91f8a5b9-4b36-4ce4-c4cd-ccb78e51e0ea"
      },
      "execution_count": 74,
      "outputs": [
        {
          "output_type": "stream",
          "name": "stdout",
          "text": [
            "converged SCF energy = -214.087486319381\n"
          ]
        }
      ]
    },
    {
      "cell_type": "code",
      "source": [
        "E_act = E_comp_act - E_reactante\n",
        "E_act"
      ],
      "metadata": {
        "colab": {
          "base_uri": "https://localhost:8080/"
        },
        "id": "ZwMGm_-DqR-a",
        "outputId": "4bcc0538-188f-4490-ac22-9d71f0a3f564"
      },
      "execution_count": 75,
      "outputs": [
        {
          "output_type": "execute_result",
          "data": {
            "text/plain": [
              "0.16450436135346536"
            ]
          },
          "metadata": {},
          "execution_count": 75
        }
      ]
    }
  ]
}